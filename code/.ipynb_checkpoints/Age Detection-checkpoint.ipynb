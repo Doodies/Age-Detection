{
 "cells": [
  {
   "cell_type": "code",
   "execution_count": 1,
   "metadata": {},
   "outputs": [
    {
     "name": "stdout",
     "output_type": "stream",
     "text": [
      "Populating the interactive namespace from numpy and matplotlib\n"
     ]
    }
   ],
   "source": [
    "% pylab inline\n",
    "# Ignore warnings\n",
    "import warnings\n",
    "warnings.filterwarnings('ignore')\n",
    "\n",
    "# Handle table-like data and matrices\n",
    "import numpy as np\n",
    "import pandas as pd\n",
    "\n",
    "# Visualisation\n",
    "import matplotlib as mpl\n",
    "import matplotlib.pyplot as plt\n",
    "import matplotlib.pylab as pylab\n",
    "import seaborn as sns\n",
    "\n",
    "# utils\n",
    "from scipy.misc import imread\n",
    "from scipy.misc import imresize\n",
    "import os\n",
    "import random\n",
    "\n",
    "# Configure visualisations\n",
    "%matplotlib inline\n",
    "color = sns.color_palette()\n",
    "pd.options.mode.chained_assignment = None\n",
    "pd.options.display.max_columns = 999\n",
    "mpl.style.use( 'ggplot' )\n",
    "sns.set_style( 'white' )\n",
    "pylab.rcParams[ 'figure.figsize' ] = 10,8 \n"
   ]
  },
  {
   "cell_type": "code",
   "execution_count": 28,
   "metadata": {
    "collapsed": true
   },
   "outputs": [],
   "source": [
    "def bar_plot(df, col, text = True, k = None, rot = 0):\n",
    "    \"\"\"\n",
    "    Arguments:\n",
    "    x : pandas series\n",
    "    Returns:\n",
    "    seaborn barplot with text on top\n",
    "    \"\"\"\n",
    "    if k == None:\n",
    "        x = df[col].value_counts()\n",
    "    else:\n",
    "        x = df[col].value_counts()[:k]\n",
    "    ax= sns.barplot(x.index, x.values, alpha=0.8)\n",
    "    plt.title(\"# per class\")\n",
    "    plt.ylabel('# of Occurrences', fontsize=12)\n",
    "    plt.xlabel(col, fontsize=12)\n",
    "    #adding the text labels\n",
    "    if text:\n",
    "        rects = ax.patches\n",
    "        labels = x.values\n",
    "        for rect, label in zip(rects, labels):\n",
    "            height = rect.get_height()\n",
    "            ax.text(rect.get_x() + rect.get_width()/2, height + 5, label, ha='center', va='bottom')\n",
    "    plt.xticks(rotation = rot)\n",
    "    plt.show()"
   ]
  },
  {
   "cell_type": "code",
   "execution_count": 2,
   "metadata": {},
   "outputs": [],
   "source": [
    "# set the root path\n",
    "root_dir = os.path.abspath('.')\n",
    "# set the data dir\n",
    "data_dir = '../input'"
   ]
  },
  {
   "cell_type": "code",
   "execution_count": 3,
   "metadata": {
    "collapsed": true
   },
   "outputs": [],
   "source": [
    "train = pd.read_csv(os.path.join(data_dir, 'train.csv'))\n",
    "test = pd.read_csv(os.path.join(data_dir, 'test.csv'))"
   ]
  },
  {
   "cell_type": "code",
   "execution_count": 4,
   "metadata": {},
   "outputs": [
    {
     "data": {
      "text/html": [
       "<div>\n",
       "<style>\n",
       "    .dataframe thead tr:only-child th {\n",
       "        text-align: right;\n",
       "    }\n",
       "\n",
       "    .dataframe thead th {\n",
       "        text-align: left;\n",
       "    }\n",
       "\n",
       "    .dataframe tbody tr th {\n",
       "        vertical-align: top;\n",
       "    }\n",
       "</style>\n",
       "<table border=\"1\" class=\"dataframe\">\n",
       "  <thead>\n",
       "    <tr style=\"text-align: right;\">\n",
       "      <th></th>\n",
       "      <th>ID</th>\n",
       "      <th>Class</th>\n",
       "    </tr>\n",
       "  </thead>\n",
       "  <tbody>\n",
       "    <tr>\n",
       "      <th>0</th>\n",
       "      <td>377.jpg</td>\n",
       "      <td>MIDDLE</td>\n",
       "    </tr>\n",
       "    <tr>\n",
       "      <th>1</th>\n",
       "      <td>17814.jpg</td>\n",
       "      <td>YOUNG</td>\n",
       "    </tr>\n",
       "    <tr>\n",
       "      <th>2</th>\n",
       "      <td>21283.jpg</td>\n",
       "      <td>MIDDLE</td>\n",
       "    </tr>\n",
       "    <tr>\n",
       "      <th>3</th>\n",
       "      <td>16496.jpg</td>\n",
       "      <td>YOUNG</td>\n",
       "    </tr>\n",
       "    <tr>\n",
       "      <th>4</th>\n",
       "      <td>4487.jpg</td>\n",
       "      <td>MIDDLE</td>\n",
       "    </tr>\n",
       "  </tbody>\n",
       "</table>\n",
       "</div>"
      ],
      "text/plain": [
       "          ID   Class\n",
       "0    377.jpg  MIDDLE\n",
       "1  17814.jpg   YOUNG\n",
       "2  21283.jpg  MIDDLE\n",
       "3  16496.jpg   YOUNG\n",
       "4   4487.jpg  MIDDLE"
      ]
     },
     "execution_count": 4,
     "metadata": {},
     "output_type": "execute_result"
    }
   ],
   "source": [
    "train.head()"
   ]
  },
  {
   "cell_type": "code",
   "execution_count": 5,
   "metadata": {},
   "outputs": [
    {
     "name": "stdout",
     "output_type": "stream",
     "text": [
      "('Train shape :', (19906, 2))\n",
      "('Test shape :', (6636, 1))\n"
     ]
    }
   ],
   "source": [
    "print(\"Train shape :\",train.shape)\n",
    "print(\"Test shape :\",test.shape)"
   ]
  },
  {
   "cell_type": "code",
   "execution_count": 6,
   "metadata": {
    "collapsed": true
   },
   "outputs": [],
   "source": [
    "def show_random_image(df, folder_name):\n",
    "    i = random.choice(df.index)\n",
    "\n",
    "    img_name = df.ID[i]\n",
    "    img = imread(os.path.join(data_dir, folder_name, img_name))\n",
    "\n",
    "    print('Age : ', train.Class[i])\n",
    "    imshow(img)\n",
    "    "
   ]
  },
  {
   "cell_type": "code",
   "execution_count": 10,
   "metadata": {},
   "outputs": [
    {
     "name": "stdout",
     "output_type": "stream",
     "text": [
      "('Age : ', 'YOUNG')\n"
     ]
    },
    {
     "data": {
      "image/png": "[encoded data removed]",
      "text/plain": [
       "<matplotlib.figure.Figure at 0x7fb4e5801350>"
      ]
     },
     "metadata": {},
     "output_type": "display_data"
    }
   ],
   "source": [
    "# show random image \n",
    "show_random_image(train, \"train\")"
   ]
  },
  {
   "cell_type": "code",
   "execution_count": 22,
   "metadata": {
    "collapsed": true
   },
   "outputs": [],
   "source": [
    "def resize_img(df, folder_name):\n",
    "    temp = []\n",
    "    for index,img_name in enumerate(df.ID):\n",
    "        if index % 1000 == 0:\n",
    "            print 'Index :',index\n",
    "        img_path = os.path.join(data_dir, folder_name, img_name)\n",
    "        img = imread(img_path)\n",
    "        img = imresize(img, (32, 32))\n",
    "        img = img.astype('float32')\n",
    "        temp.append(img)\n",
    "\n",
    "    return np.stack(temp)\n",
    "    "
   ]
  },
  {
   "cell_type": "code",
   "execution_count": 20,
   "metadata": {},
   "outputs": [
    {
     "name": "stdout",
     "output_type": "stream",
     "text": [
      "Index : 0\n",
      "Index : 1000\n",
      "Index : 2000\n",
      "Index : 3000\n",
      "Index : 4000\n",
      "Index : 5000\n",
      "Index : 6000\n",
      "Index : 7000\n",
      "Index : 8000\n",
      "Index : 9000\n",
      "Index : 10000\n",
      "Index : 11000\n",
      "Index : 12000\n",
      "Index : 13000\n",
      "Index : 14000\n",
      "Index : 15000\n",
      "Index : 16000\n",
      "Index : 17000\n",
      "Index : 18000\n",
      "Index : 19000\n",
      "CPU times: user 32.9 s, sys: 1.82 s, total: 34.7 s\n",
      "Wall time: 2min 49s\n"
     ]
    }
   ],
   "source": [
    "%%time\n",
    "# resize all the images 32 x 32 (training set), usually takes ~ 4-5 min (CPU)\n",
    "train_x = resize_img(train, \"train\")"
   ]
  },
  {
   "cell_type": "code",
   "execution_count": 23,
   "metadata": {},
   "outputs": [
    {
     "name": "stdout",
     "output_type": "stream",
     "text": [
      "Index : 0\n",
      "Index : 1000\n",
      "Index : 2000\n",
      "Index : 3000\n",
      "Index : 4000\n",
      "Index : 5000\n",
      "Index : 6000\n"
     ]
    }
   ],
   "source": [
    "# resize all the images 32 x 32 (testing set)\n",
    "test_x = resize_img(test, \"test\")"
   ]
  },
  {
   "cell_type": "code",
   "execution_count": 24,
   "metadata": {
    "collapsed": true
   },
   "outputs": [],
   "source": [
    "# flatten the image array\n",
    "train_x = train_x / 255\n",
    "test_x = test_x / 255"
   ]
  },
  {
   "cell_type": "code",
   "execution_count": 29,
   "metadata": {},
   "outputs": [
    {
     "data": {
      "image/png": "[encoded data removed]",
      "text/plain": [
       "<matplotlib.figure.Figure at 0x7fb4e57ac350>"
      ]
     },
     "metadata": {},
     "output_type": "display_data"
    }
   ],
   "source": [
    "bar_plot(train, \"Class\")"
   ]
  },
  {
   "cell_type": "code",
   "execution_count": 33,
   "metadata": {
    "scrolled": true
   },
   "outputs": [],
   "source": [
    "import keras\n",
    "from sklearn.preprocessing import LabelEncoder\n",
    "\n",
    "lb = LabelEncoder()\n",
    "train_y = lb.fit_transform(train.Class)\n",
    "train_y = keras.utils.np_utils.to_categorical(train_y)"
   ]
  },
  {
   "cell_type": "code",
   "execution_count": 34,
   "metadata": {
    "collapsed": true
   },
   "outputs": [],
   "source": [
    "# set up the parameters for neural network\n",
    "input_num_units = (32, 32, 3)\n",
    "hidden_num_units = 600\n",
    "output_num_units = 3\n",
    "num_filter = 100\n",
    "\n",
    "epochs = 30\n",
    "batch_size = 64"
   ]
  },
  {
   "cell_type": "code",
   "execution_count": 35,
   "metadata": {
    "collapsed": true
   },
   "outputs": [],
   "source": [
    "from keras.models import Sequential\n",
    "from keras.layers import Dense, Flatten, InputLayer\n",
    "from keras.layers import Conv2D, MaxPooling2D, Dropout"
   ]
  },
  {
   "cell_type": "code",
   "execution_count": 36,
   "metadata": {
    "collapsed": true
   },
   "outputs": [],
   "source": [
    "model = Sequential()\n",
    "\n",
    "## Input Layer\n",
    "model.add(InputLayer(input_shape=input_num_units))\n",
    "\n",
    "## Convolutional layer\n",
    "model.add(Conv2D(num_filter, (3, 3), activation='relu', input_shape=input_num_units))\n",
    "\n",
    "model.add(MaxPooling2D())\n",
    "\n",
    "model.add(Dropout(0.25))\n",
    "\n",
    "model.add(Conv2D(int(num_filter * 0.5), (3, 3), activation='relu', input_shape=(10, 10, 100)))\n",
    "\n",
    "model.add(MaxPooling2D())\n",
    "\n",
    "model.add(Dropout(0.25))\n",
    "\n",
    "model.add(Conv2D(int(num_filter * 0.3), (3, 3), activation='relu', input_shape=(1, 1, 10)))\n",
    "\n",
    "model.add(Flatten())\n",
    "\n",
    "model.add(Dense(hidden_num_units, activation='relu'))\n",
    "\n",
    "model.add(Dropout(0.5))\n",
    "\n",
    "model.add(Dense(int(hidden_num_units * 0.2), activation='relu'))\n",
    "\n",
    "model.add(Dense(units=output_num_units, activation='softmax'))"
   ]
  },
  {
   "cell_type": "code",
   "execution_count": 37,
   "metadata": {},
   "outputs": [
    {
     "name": "stdout",
     "output_type": "stream",
     "text": [
      "_________________________________________________________________\n",
      "Layer (type)                 Output Shape              Param #   \n",
      "=================================================================\n",
      "input_1 (InputLayer)         (None, 32, 32, 3)         0         \n",
      "_________________________________________________________________\n",
      "conv2d_1 (Conv2D)            (None, 30, 30, 100)       2800      \n",
      "_________________________________________________________________\n",
      "max_pooling2d_1 (MaxPooling2 (None, 15, 15, 100)       0         \n",
      "_________________________________________________________________\n",
      "dropout_1 (Dropout)          (None, 15, 15, 100)       0         \n",
      "_________________________________________________________________\n",
      "conv2d_2 (Conv2D)            (None, 13, 13, 50)        45050     \n",
      "_________________________________________________________________\n",
      "max_pooling2d_2 (MaxPooling2 (None, 6, 6, 50)          0         \n",
      "_________________________________________________________________\n",
      "dropout_2 (Dropout)          (None, 6, 6, 50)          0         \n",
      "_________________________________________________________________\n",
      "conv2d_3 (Conv2D)            (None, 4, 4, 30)          13530     \n",
      "_________________________________________________________________\n",
      "flatten_1 (Flatten)          (None, 480)               0         \n",
      "_________________________________________________________________\n",
      "dense_1 (Dense)              (None, 600)               288600    \n",
      "_________________________________________________________________\n",
      "dropout_3 (Dropout)          (None, 600)               0         \n",
      "_________________________________________________________________\n",
      "dense_2 (Dense)              (None, 120)               72120     \n",
      "_________________________________________________________________\n",
      "dense_3 (Dense)              (None, 3)                 363       \n",
      "=================================================================\n",
      "Total params: 422,463\n",
      "Trainable params: 422,463\n",
      "Non-trainable params: 0\n",
      "_________________________________________________________________\n"
     ]
    }
   ],
   "source": [
    "model.summary()"
   ]
  },
  {
   "cell_type": "code",
   "execution_count": 38,
   "metadata": {
    "collapsed": true
   },
   "outputs": [],
   "source": [
    "model.compile(optimizer='adam', loss='categorical_crossentropy', metrics=['accuracy'])\n",
    "# model.fit(train_x, train_y, batch_size=batch_size,epochs=epochs,verbose=1)"
   ]
  },
  {
   "cell_type": "code",
   "execution_count": 39,
   "metadata": {},
   "outputs": [
    {
     "name": "stdout",
     "output_type": "stream",
     "text": [
      "Train on 17915 samples, validate on 1991 samples\n",
      "Epoch 1/30\n",
      "17915/17915 [==============================] - 75s 4ms/step - loss: 0.9195 - acc: 0.5566 - val_loss: 0.8503 - val_acc: 0.6168\n",
      "Epoch 2/30\n",
      "17915/17915 [==============================] - 76s 4ms/step - loss: 0.8099 - acc: 0.6366 - val_loss: 0.7488 - val_acc: 0.6801\n",
      "Epoch 3/30\n",
      "17915/17915 [==============================] - 83s 5ms/step - loss: 0.7498 - acc: 0.6691 - val_loss: 0.7149 - val_acc: 0.6936\n",
      "Epoch 4/30\n",
      "17915/17915 [==============================] - 84s 5ms/step - loss: 0.7190 - acc: 0.6858 - val_loss: 0.6977 - val_acc: 0.6886\n",
      "Epoch 5/30\n",
      "17915/17915 [==============================] - 78s 4ms/step - loss: 0.6931 - acc: 0.6996 - val_loss: 0.6779 - val_acc: 0.7062\n",
      "Epoch 6/30\n",
      "17915/17915 [==============================] - 83s 5ms/step - loss: 0.6720 - acc: 0.7104 - val_loss: 0.7059 - val_acc: 0.6966\n",
      "Epoch 7/30\n",
      "17915/17915 [==============================] - 84s 5ms/step - loss: 0.6464 - acc: 0.7223 - val_loss: 0.6506 - val_acc: 0.7162\n",
      "Epoch 8/30\n",
      "17915/17915 [==============================] - 85s 5ms/step - loss: 0.6345 - acc: 0.7269 - val_loss: 0.6240 - val_acc: 0.7313\n",
      "Epoch 9/30\n",
      "17915/17915 [==============================] - 85s 5ms/step - loss: 0.6133 - acc: 0.7345 - val_loss: 0.6204 - val_acc: 0.7368\n",
      "Epoch 10/30\n",
      "17915/17915 [==============================] - 89s 5ms/step - loss: 0.5971 - acc: 0.7438 - val_loss: 0.6205 - val_acc: 0.7338\n",
      "Epoch 11/30\n",
      "17915/17915 [==============================] - 84s 5ms/step - loss: 0.5798 - acc: 0.7531 - val_loss: 0.5899 - val_acc: 0.7534\n",
      "Epoch 12/30\n",
      "17915/17915 [==============================] - 86s 5ms/step - loss: 0.5666 - acc: 0.7603 - val_loss: 0.5798 - val_acc: 0.7599\n",
      "Epoch 13/30\n",
      "17915/17915 [==============================] - 82s 5ms/step - loss: 0.5463 - acc: 0.7719 - val_loss: 0.5860 - val_acc: 0.7559\n",
      "Epoch 14/30\n",
      "17915/17915 [==============================] - 83s 5ms/step - loss: 0.5287 - acc: 0.7754 - val_loss: 0.5923 - val_acc: 0.7494\n",
      "Epoch 15/30\n",
      "17915/17915 [==============================] - 84s 5ms/step - loss: 0.5200 - acc: 0.7788 - val_loss: 0.5812 - val_acc: 0.7584\n",
      "Epoch 16/30\n",
      "17915/17915 [==============================] - 91s 5ms/step - loss: 0.5070 - acc: 0.7863 - val_loss: 0.5733 - val_acc: 0.7705\n",
      "Epoch 17/30\n",
      "17915/17915 [==============================] - 97s 5ms/step - loss: 0.4990 - acc: 0.7906 - val_loss: 0.5651 - val_acc: 0.7755\n",
      "Epoch 18/30\n",
      "17915/17915 [==============================] - 87s 5ms/step - loss: 0.4861 - acc: 0.7958 - val_loss: 0.5633 - val_acc: 0.7780\n",
      "Epoch 19/30\n",
      "17915/17915 [==============================] - 97s 5ms/step - loss: 0.4679 - acc: 0.8057 - val_loss: 0.5789 - val_acc: 0.7664\n",
      "Epoch 20/30\n",
      "17915/17915 [==============================] - 96s 5ms/step - loss: 0.4629 - acc: 0.8071 - val_loss: 0.5491 - val_acc: 0.7865\n",
      "Epoch 21/30\n",
      "17915/17915 [==============================] - 96s 5ms/step - loss: 0.4466 - acc: 0.8165 - val_loss: 0.5704 - val_acc: 0.7649\n",
      "Epoch 22/30\n",
      "17915/17915 [==============================] - 93s 5ms/step - loss: 0.4428 - acc: 0.8152 - val_loss: 0.5548 - val_acc: 0.7770\n",
      "Epoch 23/30\n",
      "17915/17915 [==============================] - 86s 5ms/step - loss: 0.4309 - acc: 0.8203 - val_loss: 0.5606 - val_acc: 0.7770\n",
      "Epoch 24/30\n",
      "17915/17915 [==============================] - 83s 5ms/step - loss: 0.4163 - acc: 0.8320 - val_loss: 0.5757 - val_acc: 0.7800\n",
      "Epoch 25/30\n",
      "17915/17915 [==============================] - 82s 5ms/step - loss: 0.4133 - acc: 0.8305 - val_loss: 0.5462 - val_acc: 0.7885\n",
      "Epoch 26/30\n",
      "17915/17915 [==============================] - 81s 5ms/step - loss: 0.4092 - acc: 0.8314 - val_loss: 0.5435 - val_acc: 0.7780\n",
      "Epoch 27/30\n",
      "17915/17915 [==============================] - 77s 4ms/step - loss: 0.3910 - acc: 0.8397 - val_loss: 0.5680 - val_acc: 0.7850\n",
      "Epoch 28/30\n",
      "17915/17915 [==============================] - 86s 5ms/step - loss: 0.3879 - acc: 0.8410 - val_loss: 0.5721 - val_acc: 0.7795\n",
      "Epoch 29/30\n",
      "17915/17915 [==============================] - 87s 5ms/step - loss: 0.3784 - acc: 0.8461 - val_loss: 0.5509 - val_acc: 0.7850\n",
      "Epoch 30/30\n",
      "17915/17915 [==============================] - 92s 5ms/step - loss: 0.3687 - acc: 0.8524 - val_loss: 0.5807 - val_acc: 0.7715\n"
     ]
    },
    {
     "data": {
      "text/plain": [
       "<keras.callbacks.History at 0x7fb4d5195e10>"
      ]
     },
     "execution_count": 39,
     "metadata": {},
     "output_type": "execute_result"
    }
   ],
   "source": [
    "model.fit(train_x, train_y, batch_size=batch_size,epochs=epochs,verbose=1, validation_split=0.1)"
   ]
  },
  {
   "cell_type": "code",
   "execution_count": 44,
   "metadata": {},
   "outputs": [
    {
     "name": "stdout",
     "output_type": "stream",
     "text": [
      "19906/19906 [==============================] - 24s 1ms/step\n",
      "6636/6636 [==============================] - 8s 1ms/step\n"
     ]
    }
   ],
   "source": [
    "pred_train = model.predict_classes(train_x, verbose=1)\n",
    "pred = model.predict_classes(test_x, verbose=1)\n",
    "pred = lb.inverse_transform(pred)\n",
    "\n",
    "test['Class'] = pred\n",
    "test.to_csv('submission.csv', index=False)"
   ]
  },
  {
   "cell_type": "code",
   "execution_count": 48,
   "metadata": {},
   "outputs": [
    {
     "name": "stdout",
     "output_type": "stream",
     "text": [
      "('Original : ', 'MIDDLE', 'Predicted:', 'MIDDLE')\n"
     ]
    },
    {
     "data": {
      "image/png": "[encoded data removed]",
      "text/plain": [
       "<matplotlib.figure.Figure at 0x7fb4d01f02d0>"
      ]
     },
     "metadata": {},
     "output_type": "display_data"
    }
   ],
   "source": [
    "i = random.choice(train.index)\n",
    "img_name = train.ID[i]\n",
    "\n",
    "img = imread(os.path.join(data_dir, 'train', img_name)).astype('float32')\n",
    "imshow(imresize(img, (64, 64)))\n",
    "print(\"Original : \", train.Class[i], 'Predicted:', lb.inverse_transform(pred_train[i]))"
   ]
  },
  {
   "cell_type": "code",
   "execution_count": null,
   "metadata": {
    "collapsed": true
   },
   "outputs": [],
   "source": []
  }
 ],
 "metadata": {
  "kernelspec": {
   "display_name": "Python 2",
   "language": "python",
   "name": "python2"
  },
  "language_info": {
   "codemirror_mode": {
    "name": "ipython",
    "version": 2
   },
   "file_extension": ".py",
   "mimetype": "text/x-python",
   "name": "python",
   "nbconvert_exporter": "python",
   "pygments_lexer": "ipython2",
   "version": "2.7.14"
  }
 },
 "nbformat": 4,
 "nbformat_minor": 2
}
